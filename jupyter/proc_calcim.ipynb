{
 "cells": [
  {
   "cell_type": "markdown",
   "id": "38e46552-9b8d-44f0-ad16-b0ae039a723c",
   "metadata": {},
   "source": [
    "# Calcium imaging processing (Dima's files)\n",
    "\n",
    "This module should be run in each dir containing the collection of files for each dish. \n",
    "Data for all selected cells are exported into individual files, containing each its own time column and intensity (2 columns per file). All the times shold be the same, but this is not checksd.\n",
    "\n",
    "This modules collites individual files into a single table, containing 1 time and multiple data columns. It will also perform normalization on individual traces (each column independently) and plot basic graphs. \n",
    "\n",
    "## Outputs:\n",
    ".csv file  containing all the data combined in a single table, ready for import.\n",
    ".atf file  containing all the data per dish. Then clampfit can be used for easier analysis.\n",
    "(optionally) png files with some graphs"
   ]
  },
  {
   "cell_type": "markdown",
   "id": "d6e98c16-8e30-4ea2-8410-80e9ca86c0e4",
   "metadata": {},
   "source": [
    "Starting code blocks.\n",
    "Define the path to the dir to process below. The dir should contain the collection of .dat files, each with 2 columns separated by <TAB>: time<TAB>value."
   ]
  },
  {
   "cell_type": "code",
   "execution_count": 1,
   "id": "a360f176-3184-4507-ab8b-8fd8c728cfd2",
   "metadata": {
    "scrolled": true
   },
   "outputs": [
    {
     "data": {
      "text/plain": [
       "['dat/dish01/c001.dat',\n",
       " 'dat/dish01/c002.dat',\n",
       " 'dat/dish01/c003.dat',\n",
       " 'dat/dish01/c004.dat',\n",
       " 'dat/dish01/c005.dat',\n",
       " 'dat/dish01/c006.dat',\n",
       " 'dat/dish01/c007.dat',\n",
       " 'dat/dish01/c008.dat',\n",
       " 'dat/dish01/c009.dat',\n",
       " 'dat/dish01/c010.dat',\n",
       " 'dat/dish01/c011.dat',\n",
       " 'dat/dish01/c012.dat',\n",
       " 'dat/dish01/c013.dat',\n",
       " 'dat/dish01/c014.dat',\n",
       " 'dat/dish01/c015.dat',\n",
       " 'dat/dish01/c016.dat',\n",
       " 'dat/dish01/c017.dat',\n",
       " 'dat/dish01/c018.dat',\n",
       " 'dat/dish01/c019.dat',\n",
       " 'dat/dish01/c020.dat',\n",
       " 'dat/dish01/c021.dat',\n",
       " 'dat/dish01/c022.dat',\n",
       " 'dat/dish01/c023.dat',\n",
       " 'dat/dish01/c024.dat',\n",
       " 'dat/dish01/c025.dat',\n",
       " 'dat/dish01/c026.dat',\n",
       " 'dat/dish01/c027.dat',\n",
       " 'dat/dish01/c028.dat',\n",
       " 'dat/dish01/c029.dat',\n",
       " 'dat/dish01/c030.dat',\n",
       " 'dat/dish01/c031.dat',\n",
       " 'dat/dish01/c032.dat',\n",
       " 'dat/dish01/c033.dat',\n",
       " 'dat/dish01/c034.dat',\n",
       " 'dat/dish01/c035.dat',\n",
       " 'dat/dish01/c036.dat',\n",
       " 'dat/dish01/c037.dat',\n",
       " 'dat/dish01/c038.dat',\n",
       " 'dat/dish01/c039.dat',\n",
       " 'dat/dish01/c040.dat',\n",
       " 'dat/dish01/c041.dat',\n",
       " 'dat/dish01/c042.dat',\n",
       " 'dat/dish01/c043.dat',\n",
       " 'dat/dish01/c044.dat',\n",
       " 'dat/dish01/c045.dat',\n",
       " 'dat/dish01/c046.dat',\n",
       " 'dat/dish01/c047.dat',\n",
       " 'dat/dish01/c048.dat',\n",
       " 'dat/dish01/c049.dat',\n",
       " 'dat/dish01/c050.dat',\n",
       " 'dat/dish01/c051.dat',\n",
       " 'dat/dish01/c052.dat',\n",
       " 'dat/dish01/c053.dat',\n",
       " 'dat/dish01/c054.dat',\n",
       " 'dat/dish01/c055.dat',\n",
       " 'dat/dish01/c056.dat',\n",
       " 'dat/dish01/c057.dat',\n",
       " 'dat/dish01/c058.dat',\n",
       " 'dat/dish01/c059.dat',\n",
       " 'dat/dish01/c060.dat',\n",
       " 'dat/dish01/c061.dat',\n",
       " 'dat/dish01/c062.dat',\n",
       " 'dat/dish01/c063.dat',\n",
       " 'dat/dish01/c064.dat',\n",
       " 'dat/dish01/c065.dat',\n",
       " 'dat/dish01/c066.dat',\n",
       " 'dat/dish01/c067.dat',\n",
       " 'dat/dish01/c068.dat',\n",
       " 'dat/dish01/c069.dat',\n",
       " 'dat/dish01/c070.dat',\n",
       " 'dat/dish01/c071.dat',\n",
       " 'dat/dish01/c072.dat',\n",
       " 'dat/dish01/c073.dat',\n",
       " 'dat/dish01/c074.dat',\n",
       " 'dat/dish01/c075.dat',\n",
       " 'dat/dish01/c076.dat',\n",
       " 'dat/dish01/c077.dat',\n",
       " 'dat/dish01/c078.dat',\n",
       " 'dat/dish01/c079.dat',\n",
       " 'dat/dish01/c080.dat',\n",
       " 'dat/dish01/c081.dat',\n",
       " 'dat/dish01/c082.dat',\n",
       " 'dat/dish01/c083.dat',\n",
       " 'dat/dish01/c084.dat',\n",
       " 'dat/dish01/c085.dat',\n",
       " 'dat/dish01/c086.dat',\n",
       " 'dat/dish01/c087.dat',\n",
       " 'dat/dish01/c088.dat',\n",
       " 'dat/dish01/c089.dat',\n",
       " 'dat/dish01/c090.dat',\n",
       " 'dat/dish01/c091.dat',\n",
       " 'dat/dish01/c092.dat',\n",
       " 'dat/dish01/c093.dat',\n",
       " 'dat/dish01/c094.dat',\n",
       " 'dat/dish01/c095.dat',\n",
       " 'dat/dish01/c096.dat',\n",
       " 'dat/dish01/c097.dat',\n",
       " 'dat/dish01/c098.dat',\n",
       " 'dat/dish01/c099.dat',\n",
       " 'dat/dish01/c100.dat',\n",
       " 'dat/dish01/c101.dat',\n",
       " 'dat/dish01/c102.dat']"
      ]
     },
     "execution_count": 1,
     "metadata": {},
     "output_type": "execute_result"
    }
   ],
   "source": [
    "# !!! modify these vars below !!!\n",
    "directory = 'dat/dish01' # where to find files\n",
    "pattern = \"*.dat\"  # input pattern\n",
    "baseName = \"_ctl01\" # base part of output name(s)\n",
    "outSeparator = ',' # separator to use in outpus csv files\n",
    "### end of moddable block ###\n",
    "\n",
    "# Changed file handling to more basic, using glob. All we need is a simple list of files\n",
    "#from pathlib import Path\n",
    "#p = Path() # modify this\n",
    "#files = p.glob(\"*.dat\")\n",
    "\n",
    "import glob\n",
    "files = glob.glob(directory + \"/\" + pattern)\n",
    "files.sort()  # default order seems arbitrary, so we better do some (alphabetic) sorting\n",
    "\n",
    "files  # comment to speed up, this is just a control point"
   ]
  },
  {
   "cell_type": "markdown",
   "id": "954d33cf-d4c8-44ed-9e56-d19ac851704f",
   "metadata": {},
   "source": [
    "Now we do the data collection and assembly"
   ]
  },
  {
   "cell_type": "code",
   "execution_count": 2,
   "id": "942ac0c6-e460-4269-ad79-47c3a342df29",
   "metadata": {},
   "outputs": [
    {
     "name": "stdout",
     "output_type": "stream",
     "text": [
      "read 1st file:  dat/dish01/c001.dat ;  nData =  1 ,  nPts =  1321\n",
      "read all files: nData =  102 ,  nPts =  1321\n",
      "finished creating output files!\n"
     ]
    }
   ],
   "source": [
    "from lib import tabdata\n",
    "\n",
    "data = tabdata.TabData(no_time=False)\n",
    "\n",
    "# read the 1st file\n",
    "with open(files[0]) as F:\n",
    "    data.read_csv(F, Separator='\\t')\n",
    "\n",
    "print(\"read 1st file: \", files[0], \";  nData = \", data.Nvars, \",  nPts = \", data.Npts)\n",
    "\n",
    "# now read the rest of files and assemble the main table\n",
    "for file in files[1:]:\n",
    "    with open(file) as F:\n",
    "        newData = tabdata.from_csv(F,  Separator='\\t')\n",
    "        data.append_column(newData.data[0], colStr = newData.colID[1])\n",
    "\n",
    "print(\"read all files: nData = \", data.Nvars, \",  nPts = \", data.Npts)\n",
    "\n",
    "# now we are ready to export data\n",
    "with open(directory + \"/\" + baseName + \".csv\",'w') as F:\n",
    "    data.write_csv(F, outSeparator)\n",
    "\n",
    "with open(directory + \"/\" + baseName + \".atf\",'w') as F:\n",
    "    data.write_atf(F)\n",
    "\n",
    "print(\"finished creating output files!\")"
   ]
  },
  {
   "cell_type": "code",
   "execution_count": null,
   "id": "4e272400-299b-4114-b061-64f1cf4c983f",
   "metadata": {},
   "outputs": [],
   "source": []
  }
 ],
 "metadata": {
  "kernelspec": {
   "display_name": "Python 3 (ipykernel)",
   "language": "python",
   "name": "python3"
  },
  "language_info": {
   "codemirror_mode": {
    "name": "ipython",
    "version": 3
   },
   "file_extension": ".py",
   "mimetype": "text/x-python",
   "name": "python",
   "nbconvert_exporter": "python",
   "pygments_lexer": "ipython3",
   "version": "3.12.10"
  }
 },
 "nbformat": 4,
 "nbformat_minor": 5
}
