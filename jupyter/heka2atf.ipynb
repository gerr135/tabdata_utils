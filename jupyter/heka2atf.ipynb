{
 "cells": [
  {
   "cell_type": "markdown",
   "id": "05605200-be30-4d28-b943-84ddb0be6dbf",
   "metadata": {},
   "source": [
    "# This module converts a single HEK csv (export to text) file to series of ATF (Axon) files\n",
    "\n",
    "This is simply a upyter notebook wrapper for the code in tabdata_utils that can be used in command line under Linux. This wrapper is made for simplifying handling these conversions cross-platform. Simply install Jupyter on any machine and run this module.\n",
    "\n",
    "Set the below var to the path/filename to convert"
   ]
  },
  {
   "cell_type": "code",
   "execution_count": 1,
   "id": "c6c9fe8b-05cc-46a0-9f41-dfeec48ae476",
   "metadata": {},
   "outputs": [],
   "source": [
    "FileName = \"dat/test_heka.csv\""
   ]
  },
  {
   "cell_type": "markdown",
   "id": "cc518dc6-20c3-4c0d-9413-e0e0cca5b4c4",
   "metadata": {},
   "source": [
    "By default the output file will be written to the same location/name, just changing the extension to atf.\n",
    "If you want to change this, uncomment and modify the below var:"
   ]
  },
  {
   "cell_type": "code",
   "execution_count": 2,
   "id": "11aa0a56-24a9-4722-afe5-7cf063a8900c",
   "metadata": {},
   "outputs": [],
   "source": [
    "# OutFN = \"tst/heka_out.atf\"\n",
    "\n",
    "if \"OutFN\" not in vars():\n",
    "    # init OutFN from FileName\n",
    "    OutFN = FileName[:-4]+\".atf\"\n",
    "\n",
    "#print(OutFN)"
   ]
  },
  {
   "cell_type": "markdown",
   "id": "7566a639-a987-4827-96d3-a4ea7270119c",
   "metadata": {},
   "source": [
    "Now the main processing code. This simply uses the prior implementation of various data format classes in tabdata_utils."
   ]
  },
  {
   "cell_type": "code",
   "execution_count": 3,
   "id": "7a2e7bdd-6212-41d5-a08b-2020dc195118",
   "metadata": {},
   "outputs": [],
   "source": [
    "from lib import tabdata\n",
    "\n",
    "data = tabdata.TabData(no_time=False)\n",
    "with open(FileName) as F:\n",
    "    data.read_HEKA_csv(F)\n",
    "\n",
    "with open(OutFN, mode='w') as F:\n",
    "    data.write_atf(F)"
   ]
  },
  {
   "cell_type": "markdown",
   "id": "49843b33-9991-4541-8125-9f43ab2f4f57",
   "metadata": {},
   "source": [
    "This is it, the new atf should have been created."
   ]
  }
 ],
 "metadata": {
  "kernelspec": {
   "display_name": "Python 3 (ipykernel)",
   "language": "python",
   "name": "python3"
  },
  "language_info": {
   "codemirror_mode": {
    "name": "ipython",
    "version": 3
   },
   "file_extension": ".py",
   "mimetype": "text/x-python",
   "name": "python",
   "nbconvert_exporter": "python",
   "pygments_lexer": "ipython3",
   "version": "3.12.10"
  }
 },
 "nbformat": 4,
 "nbformat_minor": 5
}
